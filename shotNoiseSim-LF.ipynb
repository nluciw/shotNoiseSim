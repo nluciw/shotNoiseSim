{
 "cells": [
  {
   "cell_type": "markdown",
   "metadata": {
    "deletable": true,
    "editable": true
   },
   "source": [
    "# Shot noise sim from ALFALFA LF"
   ]
  },
  {
   "cell_type": "markdown",
   "metadata": {
    "deletable": true,
    "editable": true
   },
   "source": [
    "This is the luminosity function partner to the analysis of the HIMF."
   ]
  },
  {
   "cell_type": "code",
   "execution_count": 83,
   "metadata": {
    "collapsed": false,
    "deletable": true,
    "editable": true
   },
   "outputs": [
    {
     "data": {
      "text/html": [
       "<script>jQuery(function() {if (jQuery(\"body.notebook_app\").length == 0) { jQuery(\".input_area\").toggle(); jQuery(\".prompt\").toggle();}});</script>"
      ]
     },
     "metadata": {},
     "output_type": "display_data"
    },
    {
     "data": {
      "text/html": [
       "<button onclick=\"jQuery('.input_area').toggle(); jQuery('.prompt').toggle();\">Toggle code</button>"
      ]
     },
     "metadata": {},
     "output_type": "display_data"
    }
   ],
   "source": [
    "%matplotlib inline\n",
    "import IPython.core.display as di\n",
    "\n",
    "# This line will hide code by default when the notebook is exported as HTML\n",
    "di.display_html('<script>jQuery(function() {if (jQuery(\"body.notebook_app\").length == 0) { jQuery(\".input_area\").toggle(); jQuery(\".prompt\").toggle();}});</script>', raw=True)\n",
    "\n",
    "# This line will add a button to toggle visibility of code blocks, for use with the HTML export version\n",
    "di.display_html('''<button onclick=\"jQuery('.input_area').toggle(); jQuery('.prompt').toggle();\">Toggle code</button>''', raw=True)\n",
    "\n",
    "import numpy as np\n",
    "from scipy import integrate\n",
    "import matplotlib.pyplot as plt"
   ]
  },
  {
   "cell_type": "markdown",
   "metadata": {},
   "source": [
    "Take Schechter function parameters from Moorman et al. 2015. Explore magnitude range from -22 to -14."
   ]
  },
  {
   "cell_type": "code",
   "execution_count": 84,
   "metadata": {
    "collapsed": true,
    "deletable": true,
    "editable": true
   },
   "outputs": [],
   "source": [
    "phi, mstar, alpha = 10**(-4.43), -20.74, -1.2\n",
    "\n",
    "x = np.linspace(-22.2, -13.8, 240000)"
   ]
  },
  {
   "cell_type": "markdown",
   "metadata": {
    "deletable": true,
    "editable": true
   },
   "source": [
    "Take the definition of the Schechter function from Moorman."
   ]
  },
  {
   "cell_type": "code",
   "execution_count": 78,
   "metadata": {
    "collapsed": false,
    "deletable": true,
    "editable": true
   },
   "outputs": [],
   "source": [
    "#mf = phi * (x / mstar)**(1 + alpha) * np.exp(-x / mstar) / (-1 - alpha)\n",
    "mf = 0.4*np.log(10) * phi * 10**(0.4*(-x + mstar)*(alpha + 1)) *\\\n",
    "         np.exp(-10**(0.4*(-x + mstar)))"
   ]
  },
  {
   "cell_type": "code",
   "execution_count": 79,
   "metadata": {
    "collapsed": false,
    "deletable": true,
    "editable": true,
    "scrolled": true
   },
   "outputs": [
    {
     "data": {
      "image/png": "[encoded data removed]",
      "text/plain": [
       "<matplotlib.figure.Figure at 0x7f4ca9a42e90>"
      ]
     },
     "metadata": {},
     "output_type": "display_data"
    }
   ],
   "source": [
    "plt.plot(x, mf)\n",
    "plt.xlim([-24., -12.])\n",
    "plt.ylim([5e-8, 1e-3])\n",
    "plt.yscale('log')\n",
    "plt.xlabel('$M_r$')\n",
    "plt.ylabel('$\\Phi(M_r)$')\n",
    "plt.show()"
   ]
  },
  {
   "cell_type": "markdown",
   "metadata": {
    "deletable": true,
    "editable": true
   },
   "source": [
    "Now we choose mass bins over which we'll integrate the function to return the number density of galaxies for each bin. We'll choose 25 bins to model Martin et al."
   ]
  },
  {
   "cell_type": "code",
   "execution_count": 80,
   "metadata": {
    "collapsed": false,
    "deletable": true,
    "editable": true,
    "scrolled": true
   },
   "outputs": [],
   "source": [
    "bins = np.linspace(-22, -14, 26)\n",
    "nbin = np.ones_like(bins[:-1])\n",
    "cent = np.ones_like(bins[:-1])\n",
    "\n",
    "for bb in range(len(bins)-1):\n",
    "    cent[bb] *= (bins[bb] + bins[bb+1]) / 2.\n",
    "    mask = (x<bins[bb+1])    \n",
    "    #mask = (x>=bins[bb]) & (x<bins[bb+1])\n",
    "    nbin[bb] *= (integrate.simps(mf[mask], x[mask]))  \n",
    "    \n",
    "nbar = integrate.simps(mf, x)\n",
    "mfint = np.array(nbin)"
   ]
  },
  {
   "cell_type": "markdown",
   "metadata": {
    "deletable": true,
    "editable": true
   },
   "source": [
    "Integrating the LF from $M_{r} \\sim -22 $ to $M_{r} \\sim -12$ gives $\\bar{n} \\sim 6.0\\times 10^{-3}$ for the ALFALFA \"Walls\" Schechter function, and $\\bar{n} \\sim 4.5\\times 10^{-3}$ for \"Voids\"."
   ]
  }
 ],
 "metadata": {
  "kernelspec": {
   "display_name": "Python 2",
   "language": "python",
   "name": "python2"
  },
  "language_info": {
   "codemirror_mode": {
    "name": "ipython",
    "version": 2
   },
   "file_extension": ".py",
   "mimetype": "text/x-python",
   "name": "python",
   "nbconvert_exporter": "python",
   "pygments_lexer": "ipython2",
   "version": "2.7.13"
  }
 },
 "nbformat": 4,
 "nbformat_minor": 2
}
