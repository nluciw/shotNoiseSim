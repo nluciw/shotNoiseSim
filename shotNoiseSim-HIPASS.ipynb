{
 "cells": [
  {
   "cell_type": "markdown",
   "metadata": {
    "deletable": true,
    "editable": true
   },
   "source": [
    "# Shot noise sim from HIPASS HIMF"
   ]
  },
  {
   "cell_type": "markdown",
   "metadata": {
    "deletable": true,
    "editable": true
   },
   "source": [
    "This is an attempt to make some sort of simulation of HI galaxies from the HIPASS HI mass function. See Zwaan, at al. 2013 for reference. "
   ]
  },
  {
   "cell_type": "code",
   "execution_count": 190,
   "metadata": {
    "collapsed": false,
    "deletable": true,
    "editable": true
   },
   "outputs": [],
   "source": [
    "%matplotlib inline\n",
    "\n",
    "import numpy as np\n",
    "from scipy import integrate\n",
    "import matplotlib.pyplot as plt\n",
    "import scipy as sp\n",
    "from scipy import stats"
   ]
  },
  {
   "cell_type": "markdown",
   "metadata": {
    "deletable": true,
    "editable": true
   },
   "source": [
    "Take a bunch of useful parameters. Explore HI mass range from 6 to 11 solar masses."
   ]
  },
  {
   "cell_type": "code",
   "execution_count": 372,
   "metadata": {
    "collapsed": false,
    "deletable": true,
    "editable": true
   },
   "outputs": [],
   "source": [
    "# bunch of constants/parameters\n",
    "h = 6.62607e-34\n",
    "omeg_m = 0.3139\n",
    "omeg_l = 0.6861\n",
    "c = 2.99792e8\n",
    "A = 2.869e-15\n",
    "m = 1.67372e-27\n",
    "k = 1.38064e-23\n",
    "v = 1.42041e9\n",
    "z = 0.08\n",
    "H = 2.26719e-18\n",
    "# solar mass in kg\n",
    "Ms = 1.989e30\n",
    "#rhoc = 2.49732453e41 # in kg/Mpc^3\n",
    "rhoc = 6.1e7*Ms / 3.8e-4\n",
    "\n",
    "# conversion from M_HI to T_b\n",
    "C = 3 * h * c**3 * A * (1+z)**2 / (31*np.pi * m * k * v**2 * H)\n",
    "# volume of box in metres (convert from Mpc)\n",
    "V = (139 * 1.e6 * 3.08568025e16)**3\n",
    "Nv = 139\n",
    "\n",
    "# Coeff between T_b and Omega_HI (ie T*Omega_HI = T_b)\n",
    "T = 0.39 * ((omeg_m + omeg_l * (1+z)**-3) / 0.29)**-0.5 *\\\n",
    "    ((1.0 + z) / 2.5)**0.5"
   ]
  },
  {
   "cell_type": "code",
   "execution_count": 380,
   "metadata": {
    "collapsed": false,
    "deletable": true,
    "editable": true
   },
   "outputs": [
    {
     "data": {
      "text/plain": [
       "array([ 6.        ,  6.00001515,  6.00003031,  6.00004546,  6.00006061,\n",
       "        6.00007577,  6.00009092,  6.00010608,  6.00012123,  6.00013638])"
      ]
     },
     "execution_count": 380,
     "metadata": {},
     "output_type": "execute_result"
    }
   ],
   "source": [
    "phi, mstar, alpha = 8.6e-3, 10.**9.79, -1.30\n",
    "#alpha += 0.02\n",
    "#mstar = 10.**(9.79*0.85)\n",
    "#mstar *= 0.85\n",
    "#phi *= 1.15\n",
    "#mlow = 10.**7.\n",
    "\n",
    "x = np.logspace(np.log10(6.), np.log10(11.), 240000)\n",
    "\n",
    "x[:10]"
   ]
  },
  {
   "cell_type": "markdown",
   "metadata": {
    "deletable": true,
    "editable": true
   },
   "source": [
    "We take a conventional definition of the Schechter function. Note that it's often given as a differential, so integration is required to return the proper form.\n",
    "\n",
    "Zwaan uses $h_{75}$, so we convert to $h_{100}$ for comparison with Parkes. Zwaan also outlines some biases on the Schechter parameters and the function overall, which I'll include here."
   ]
  },
  {
   "cell_type": "code",
   "execution_count": 381,
   "metadata": {
    "collapsed": false,
    "deletable": true,
    "editable": true
   },
   "outputs": [],
   "source": [
    "#mf = phi * (x / mstar)**(1 + alpha) * np.exp(-x / mstar) / (-1 - alpha)\n",
    "mf =  phi * (10**x / mstar)**(alpha + 1) *\\\n",
    "         np.exp(-10**x / mstar) * (100. / 100.)**3\n",
    "    \n",
    "# attempting some low-mass cutoff\n",
    "#mf *= np.exp(-(mlow / 10**x)**(3.))"
   ]
  },
  {
   "cell_type": "code",
   "execution_count": 382,
   "metadata": {
    "collapsed": false,
    "deletable": true,
    "editable": true
   },
   "outputs": [
    {
     "data": {
      "image/png": "[encoded data removed]",
      "text/plain": [
       "<matplotlib.figure.Figure at 0x7f2e8c808910>"
      ]
     },
     "metadata": {},
     "output_type": "display_data"
    }
   ],
   "source": [
    "# PLOT the HIMF\n",
    "\n",
    "plt.plot(x, mf)\n",
    "plt.xlim([6.6, 11.])\n",
    "plt.ylim([1e-6, 1.e0])\n",
    "plt.xlabel('log$(M_{{HI}}/M_\\odot)$')\n",
    "plt.ylabel('$\\Phi(M_{{HI}})$ [$h_{100}^3\\, {Mpc}^{-3}$]')\n",
    "plt.yscale('log')\n",
    "plt.show()"
   ]
  },
  {
   "cell_type": "markdown",
   "metadata": {
    "deletable": true,
    "editable": true
   },
   "source": [
    "Now we choose mass bins over which we'll integrate the function to return the mass density of galaxies for each bin. The function integrated over the entire domain is the HI mass density; divided by the critical density, this is $\\Omega_\\text{HI}$."
   ]
  },
  {
   "cell_type": "code",
   "execution_count": 385,
   "metadata": {
    "collapsed": false,
    "deletable": true,
    "editable": true,
    "scrolled": true
   },
   "outputs": [
    {
     "name": "stdout",
     "output_type": "stream",
     "text": [
      "67243885.9949\n"
     ]
    },
    {
     "data": {
      "text/plain": [
       "0.00041889633898490344"
      ]
     },
     "execution_count": 385,
     "metadata": {},
     "output_type": "execute_result"
    }
   ],
   "source": [
    "bins = np.logspace((6.8), (10.6), 50)\n",
    "nbin = np.ones_like(bins[:-1])\n",
    "cent = np.ones_like(bins[:-1])\n",
    "var = 10**np.logspace(np.log10(6.8), np.log10(10.6), len(mf))\n",
    "\n",
    "for bb in range(len(bins)-1):\n",
    "    cent[bb] *= (bins[bb] + bins[bb+1]) / 2   \n",
    "    mask = (var>=bins[bb]) & (var<bins[bb+1])\n",
    "    nbin[bb] *= (integrate.simps(mf[mask], var[mask])) / cent[bb]\n",
    "\n",
    "rho = integrate.simps(mf, var)\n",
    "print rho\n",
    "# brightness temp from integrating\n",
    "rho * Ms / rhoc "
   ]
  },
  {
   "cell_type": "code",
   "execution_count": 377,
   "metadata": {
    "collapsed": false,
    "deletable": true,
    "editable": true
   },
   "outputs": [],
   "source": [
    "probs = np.append(nbin, 1-np.sum(nbin))\n",
    "masses = np.append(cent, 0)"
   ]
  },
  {
   "cell_type": "code",
   "execution_count": 345,
   "metadata": {
    "collapsed": false,
    "deletable": true,
    "editable": true
   },
   "outputs": [],
   "source": [
    "lbox = 139\n",
    "np.random.seed(seed=1)\n",
    "box = np.random.choice(masses, size=(lbox,lbox,lbox), p=probs)\n",
    "\n",
    "#plt.hist(box.flatten(), bins=bins)\n",
    "#plt.xlabel('log$(M_{{HI}}/M_\\odot)$')\n",
    "#plt.ylabel('N')\n",
    "#plt.show()"
   ]
  },
  {
   "cell_type": "markdown",
   "metadata": {
    "deletable": true,
    "editable": true
   },
   "source": [
    "This box is a box of HI masses. However, because each voxel is $1 \\text{Mpc}^3$, these masses are also HI density estimates, in solar masses. Multiplying by $M_\\odot$ and dividing by $\\rho_\\text{crit}$, these return estimates for $\\Omega_\\text{HI}$."
   ]
  },
  {
   "cell_type": "code",
   "execution_count": 346,
   "metadata": {
    "collapsed": false,
    "deletable": true,
    "editable": true
   },
   "outputs": [
    {
     "name": "stdout",
     "output_type": "stream",
     "text": [
      "3.35381556445e-10\n"
     ]
    },
    {
     "data": {
      "text/plain": [
       "2.2263725719179865e-06"
      ]
     },
     "execution_count": 346,
     "metadata": {},
     "output_type": "execute_result"
    }
   ],
   "source": [
    "massbox = (box)\n",
    "\n",
    "# brightness temp from simulated box\n",
    "np.mean(massbox) * Ms / rhoc * T \n",
    "\n",
    "test = box * Ms / rhoc * T\n",
    "print np.var(test) \n",
    "np.mean(test)"
   ]
  },
  {
   "cell_type": "code",
   "execution_count": null,
   "metadata": {
    "collapsed": true,
    "deletable": true,
    "editable": true
   },
   "outputs": [],
   "source": []
  },
  {
   "cell_type": "code",
   "execution_count": null,
   "metadata": {
    "collapsed": true
   },
   "outputs": [],
   "source": []
  },
  {
   "cell_type": "code",
   "execution_count": null,
   "metadata": {
    "collapsed": true
   },
   "outputs": [],
   "source": []
  }
 ],
 "metadata": {
  "anaconda-cloud": {},
  "kernelspec": {
   "display_name": "Python 2",
   "language": "python",
   "name": "python2"
  },
  "language_info": {
   "codemirror_mode": {
    "name": "ipython",
    "version": 2
   },
   "file_extension": ".py",
   "mimetype": "text/x-python",
   "name": "python",
   "nbconvert_exporter": "python",
   "pygments_lexer": "ipython2",
   "version": "2.7.13"
  }
 },
 "nbformat": 4,
 "nbformat_minor": 2
}
