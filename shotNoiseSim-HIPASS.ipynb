{
 "cells": [
  {
   "cell_type": "markdown",
   "metadata": {
    "deletable": true,
    "editable": true
   },
   "source": [
    "# Shot noise sim from ALFALFA HIMF"
   ]
  },
  {
   "cell_type": "markdown",
   "metadata": {
    "deletable": true,
    "editable": true
   },
   "source": [
    "This is an attempt to make some sort of simulation of HI galaxies from the ALFALFA HI mass function. I think this function is the differential of the number density of galaxies of mass M."
   ]
  },
  {
   "cell_type": "code",
   "execution_count": 43,
   "metadata": {
    "collapsed": false,
    "deletable": true,
    "editable": true
   },
   "outputs": [],
   "source": [
    "%matplotlib inline\n",
    "\n",
    "import numpy as np\n",
    "from scipy import integrate\n",
    "import matplotlib.pyplot as plt\n",
    "import scipy as sp\n",
    "from scipy import stats"
   ]
  },
  {
   "cell_type": "markdown",
   "metadata": {
    "deletable": true,
    "editable": true
   },
   "source": [
    "Take Schechter function parameters from Martin et al. 2010. Explore HI mass range from 6 to 11 solar masses."
   ]
  },
  {
   "cell_type": "code",
   "execution_count": 44,
   "metadata": {
    "collapsed": true,
    "deletable": true,
    "editable": true
   },
   "outputs": [],
   "source": [
    "# bunch of constants/parameters\n",
    "h = 6.62607e-34\n",
    "c = 2.99792e8\n",
    "A = 2.869e-15\n",
    "m = 1.67372e-27\n",
    "k = 1.38064e-23\n",
    "v = 1.42041e9\n",
    "z = 0.08\n",
    "H = 2.26719e-18\n",
    "rhoc = 2.49732453e41 # in kg/Mpc^3\n",
    "#rhoc = 2.2444834e58\n",
    "\n",
    "# conversion from M_HI to T_b\n",
    "C = 3 * h * c**3 * A * (1+z)**2 / (31*np.pi * m * k * v**2 * H)\n",
    "# volume of box in metres (convert from Mpc)\n",
    "V = (139 * 1.e6 * 3.08568025e16)**3\n",
    "Nv = 139\n",
    "# solar mass\n",
    "Ms = 1.989e30"
   ]
  },
  {
   "cell_type": "code",
   "execution_count": 45,
   "metadata": {
    "collapsed": false,
    "deletable": true,
    "editable": true
   },
   "outputs": [],
   "source": [
    "phi, mstar, alpha = 8.6e-3, 10.**9.79, -1.30\n",
    "\n",
    "x = np.logspace(np.log10(6), np.log10(11), 240000)"
   ]
  },
  {
   "cell_type": "markdown",
   "metadata": {
    "deletable": true,
    "editable": true
   },
   "source": [
    "We take a conventional definition of the Schechter function. Note that it's often given as a differential, so integration is required to return the proper form. "
   ]
  },
  {
   "cell_type": "code",
   "execution_count": 46,
   "metadata": {
    "collapsed": false,
    "deletable": true,
    "editable": true
   },
   "outputs": [],
   "source": [
    "#mf = phi * (x / mstar)**(1 + alpha) * np.exp(-x / mstar) / (-1 - alpha)\n",
    "mf =  phi * (10**x / mstar)**(alpha + 1) *\\\n",
    "         np.exp(-10**x / mstar)"
   ]
  },
  {
   "cell_type": "code",
   "execution_count": 105,
   "metadata": {
    "collapsed": false,
    "deletable": true,
    "editable": true
   },
   "outputs": [],
   "source": [
    "# PLOT the HIMF\n",
    "\n",
    "#plt.plot(x, mf)\n",
    "#plt.xlim([6.4, 11.])\n",
    "#plt.ylim([1e-6, 1.e0])\n",
    "#plt.xlabel('log$(M_{{HI}}/M_\\odot)$')\n",
    "#plt.ylabel('$\\Phi(M_{{HI}})$ [$Mpc^{-3}$]')\n",
    "#plt.yscale('log')\n",
    "#plt.show()"
   ]
  },
  {
   "cell_type": "markdown",
   "metadata": {
    "deletable": true,
    "editable": true
   },
   "source": [
    "Now we choose mass bins over which we'll integrate the function to return the mass density of galaxies for each bin. The function integrated over the entire domain is the HI mass density; divided by the critical density, this is $\\Omega_\\text{HI}$."
   ]
  },
  {
   "cell_type": "code",
   "execution_count": 91,
   "metadata": {
    "collapsed": false,
    "deletable": true,
    "editable": true,
    "scrolled": true
   },
   "outputs": [
    {
     "name": "stdout",
     "output_type": "stream",
     "text": [
      "[ 0.02658194  0.02476688  0.02308382  0.02150657  0.02004182  0.0186762\n",
      "  0.01740328  0.01621412  0.01510873  0.01407389]\n",
      "1.60526315789e+11 1.25556788839e+11 68663787.587\n"
     ]
    }
   ],
   "source": [
    "bins = np.logspace((6), (11), 50)\n",
    "nbin = np.ones_like(bins[:-1])\n",
    "cent = np.ones_like(bins[:-1])\n",
    "var = 10**x\n",
    "\n",
    "for bb in range(len(bins)-1):\n",
    "    cent[bb] *= (bins[bb] + bins[bb+1]) / 2   \n",
    "    mask = (var>=bins[bb]) & (var<bins[bb+1])\n",
    "    nbin[bb] *= (integrate.simps(mf[mask], var[mask])) / cent[bb]\n",
    "\n",
    "rho = integrate.simps(mf, var)"
   ]
  },
  {
   "cell_type": "code",
   "execution_count": 106,
   "metadata": {
    "collapsed": false,
    "deletable": true,
    "editable": true
   },
   "outputs": [],
   "source": [
    "probs = np.append(nbin, 1-np.sum(nbin))\n",
    "masses = np.append(cent, 0)"
   ]
  },
  {
   "cell_type": "code",
   "execution_count": 107,
   "metadata": {
    "collapsed": false,
    "deletable": true,
    "editable": true
   },
   "outputs": [],
   "source": [
    "lbox = 139\n",
    "box = np.random.choice(masses, size=(lbox,lbox,lbox), p=probs)\n",
    "\n",
    "#plt.hist(box.flatten(), bins=bins)\n",
    "#plt.xlabel('log$(M_{{HI}}/M_\\odot)$')\n",
    "#plt.ylabel('N')\n",
    "#plt.show()"
   ]
  },
  {
   "cell_type": "markdown",
   "metadata": {
    "deletable": true,
    "editable": true
   },
   "source": [
    "For reference, we'll now compute the brightness temperature of each voxel, given by\n",
    "\n",
    "$ T_{\\text{HI}}(x_i) = C \\, M(x_i)(N_v/V)$,\n",
    "\n",
    "where $M(x_i)$ is the HI mass in the $i^{\\text{th}}$ voxel, $N_v$ is the number of voxels, and \n",
    "\n",
    "$C = \\frac{3hc^3 A_{10}}{32\\pi m_H k_B v^2_{21}}\\frac{(1+z)^2}{H(z)}$,\n",
    "\n",
    "where $h$ is Planck's constant, $A_{10}$ is the Einstein coefficient, and $m_H$ is the mass of the H atom."
   ]
  },
  {
   "cell_type": "code",
   "execution_count": 108,
   "metadata": {
    "collapsed": false,
    "deletable": true,
    "editable": true
   },
   "outputs": [],
   "source": [
    "h = 6.62607e-34\n",
    "c = 2.99792e8\n",
    "A = 2.869e-15\n",
    "m = 1.67372e-27\n",
    "k = 1.38064e-23\n",
    "v = 1.42041e9\n",
    "z = 0.08\n",
    "H = 2.26719e-18\n",
    "\n",
    "C = 3 * h * c**3 * A * (1+z)**2 / (31*np.pi * m * k * v**2 * H)\n",
    "# volume of box in metres (convert from Mpc)\n",
    "V = (139 * 1.e6 * 3.08568025e16)**3\n",
    "Nv = 139\n",
    "# solar mass\n",
    "Ms = 1.989e30\n",
    "\n",
    "# convert box of masses to kg \n",
    "massbox = (box)\n",
    "massbox[box==0] = 0\n",
    "# compute box of brightness temps\n",
    "Tb = C * massbox * Ms * Nv**3 / V"
   ]
  },
  {
   "cell_type": "markdown",
   "metadata": {
    "collapsed": true,
    "deletable": true,
    "editable": true
   },
   "source": [
    "Above we computed the brightness temperature of the HI in each voxel. Below we'll perform a sanity check and make a histogram of the temps."
   ]
  },
  {
   "cell_type": "code",
   "execution_count": 103,
   "metadata": {
    "collapsed": false,
    "deletable": true,
    "editable": true
   },
   "outputs": [],
   "source": [
    "tempbins = np.logspace(np.log10(1.e-6), np.log10(2.e-1), 20)\n",
    "#plt.hist(Tb.flatten(), bins=tempbins)\n",
    "#plt.ylabel('N')\n",
    "#plt.xlabel('$T_{\\mathrm{b}}\\, $[K]')\n",
    "#plt.xscale('log')\n",
    "#plt.yscale('log')"
   ]
  },
  {
   "cell_type": "code",
   "execution_count": 109,
   "metadata": {
    "collapsed": false,
    "deletable": true,
    "editable": true
   },
   "outputs": [
    {
     "data": {
      "text/plain": [
       "8.1320728302309913e-05"
      ]
     },
     "execution_count": 109,
     "metadata": {},
     "output_type": "execute_result"
    }
   ],
   "source": [
    "T_b = np.mean(Tb)\n",
    "T_b"
   ]
  },
  {
   "cell_type": "markdown",
   "metadata": {},
   "source": [
    "This is a tad too high... to be continued."
   ]
  }
 ],
 "metadata": {
  "anaconda-cloud": {},
  "kernelspec": {
   "display_name": "Python 2",
   "language": "python",
   "name": "python2"
  },
  "language_info": {
   "codemirror_mode": {
    "name": "ipython",
    "version": 2
   },
   "file_extension": ".py",
   "mimetype": "text/x-python",
   "name": "python",
   "nbconvert_exporter": "python",
   "pygments_lexer": "ipython2",
   "version": "2.7.12"
  }
 },
 "nbformat": 4,
 "nbformat_minor": 2
}
