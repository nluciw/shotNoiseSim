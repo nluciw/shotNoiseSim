{
 "cells": [
  {
   "cell_type": "markdown",
   "metadata": {
    "deletable": true,
    "editable": true
   },
   "source": [
    "# Shot noise sim from ALFALFA HIMF"
   ]
  },
  {
   "cell_type": "markdown",
   "metadata": {
    "deletable": true,
    "editable": true
   },
   "source": [
    "This is an attempt to make some sort of simulation of HI galaxies from the ALFALFA HI mass function. I think this function is the differential of the number density of galaxies of mass M. So if I simply multiply this number by a survey volume, it should return the number of galaxies of each mass a perfect survey should see. \n",
    "\n",
    "Choosing $1$ $Mpc^3$ voxels returns a box in which every voxel contains an HI galaxy, the distribution of which is given by the integral of the HIMF for each mass bin."
   ]
  },
  {
   "cell_type": "code",
   "execution_count": 45,
   "metadata": {
    "collapsed": true,
    "deletable": true,
    "editable": true
   },
   "outputs": [],
   "source": [
    "%matplotlib inline\n",
    "\n",
    "import numpy as np\n",
    "from scipy import integrate\n",
    "import matplotlib.pyplot as plt\n",
    "import scipy as sp"
   ]
  },
  {
   "cell_type": "markdown",
   "metadata": {
    "deletable": true,
    "editable": true
   },
   "source": [
    "Take Schechter function parameters from Martin et al. 2010. Explore HI mass range from 6 to 11 solar masses."
   ]
  },
  {
   "cell_type": "code",
   "execution_count": 82,
   "metadata": {
    "collapsed": true,
    "deletable": true,
    "editable": true
   },
   "outputs": [],
   "source": [
    "# bunch of constants/parameters\n",
    "h = 6.62607e-34\n",
    "c = 2.99792e8\n",
    "A = 2.869e-15\n",
    "m = 1.67372e-27\n",
    "k = 1.38064e-23\n",
    "v = 1.42041e9\n",
    "z = 0.08\n",
    "H = 2.26719e-18\n",
    "rhoc = 2.49732453e41 # in kg/Mpc^3\n",
    "#rhoc = 2.2444834e58\n",
    "\n",
    "# conversion from M_HI to T_b\n",
    "C = 3 * h * c**3 * A * (1+z)**2 / (31*np.pi * m * k * v**2 * H)\n",
    "# volume of box in metres (convert from Mpc)\n",
    "V = (139 * 1.e6 * 3.08568025e16)**3\n",
    "Nv = 139\n",
    "# solar mass\n",
    "Ms = 1.989e30"
   ]
  },
  {
   "cell_type": "code",
   "execution_count": 83,
   "metadata": {
    "collapsed": false,
    "deletable": true,
    "editable": true
   },
   "outputs": [],
   "source": [
    "phi, mstar, alpha = 8.6e-3, 10.**9.79, -1.30\n",
    "\n",
    "x = np.logspace(np.log10(6), np.log10(11), 240000)"
   ]
  },
  {
   "cell_type": "markdown",
   "metadata": {
    "deletable": true,
    "editable": true
   },
   "source": [
    "We take a conventional definition of the Schechter function. Note that it's often given as a differential, so integration is required to return the proper form. "
   ]
  },
  {
   "cell_type": "code",
   "execution_count": 84,
   "metadata": {
    "collapsed": false,
    "deletable": true,
    "editable": true
   },
   "outputs": [],
   "source": [
    "#mf = phi * (x / mstar)**(1 + alpha) * np.exp(-x / mstar) / (-1 - alpha)\n",
    "mf =  phi * (10**x / mstar)**(alpha + 1) *\\\n",
    "         np.exp(-10**x / mstar)"
   ]
  },
  {
   "cell_type": "code",
   "execution_count": 85,
   "metadata": {
    "collapsed": false,
    "deletable": true,
    "editable": true
   },
   "outputs": [
    {
     "data": {
      "image/png": "[encoded data removed]",
      "text/plain": [
       "<matplotlib.figure.Figure at 0x7f0f774606d0>"
      ]
     },
     "metadata": {},
     "output_type": "display_data"
    }
   ],
   "source": [
    "plt.plot(x, mf)\n",
    "plt.xlim([6.4, 11.])\n",
    "plt.ylim([1e-6, 1.e0])\n",
    "plt.xlabel('log$(M_{{HI}}/M_\\odot)$')\n",
    "plt.ylabel('$\\Phi(M_{{HI}})$ [$Mpc^{-3}$]')\n",
    "plt.yscale('log')\n",
    "plt.show()"
   ]
  },
  {
   "cell_type": "markdown",
   "metadata": {
    "deletable": true,
    "editable": true
   },
   "source": [
    "Now we choose mass bins over which we'll integrate the function to return the number density of galaxies for each bin. We'll choose 25 bins to model Martin et al."
   ]
  },
  {
   "cell_type": "code",
   "execution_count": 90,
   "metadata": {
    "collapsed": false,
    "deletable": true,
    "editable": true,
    "scrolled": true
   },
   "outputs": [
    {
     "name": "stdout",
     "output_type": "stream",
     "text": [
      "0.000546874352412\n",
      "1.60526315789e+11 1.25556788839e+11\n"
     ]
    }
   ],
   "source": [
    "bins = np.logspace(np.log10(6), np.log10(11), 26)\n",
    "nbin = np.ones_like(bins[:-1])\n",
    "cent = np.ones_like(bins[:-1])\n",
    "\n",
    "for bb in range(len(bins)-1):\n",
    "    cent[bb] *= (bins[bb] + bins[bb+1]) / 2.\n",
    "    #mask = (x<bins[bb+1])    \n",
    "    mask = (x>=bins[bb]) & (x<bins[bb+1])\n",
    "    nbin[bb] *= (integrate.simps(mf[mask], x[mask]))  \n",
    "\n",
    "var = 10**x\n",
    "rho = integrate.simps(mf, var)\n",
    "mfint = np.array(nbin)\n",
    "print rho*Ms / rhoc\n",
    "print 6.1e7 / 3.8e-4, rhoc / Ms"
   ]
  },
  {
   "cell_type": "markdown",
   "metadata": {
    "deletable": true,
    "editable": true
   },
   "source": [
    "Integrating the HIMF from $M_{HI} = 10^6 M_\\odot$ to $M_{HI} = 10^{11} M_{\\odot}$ gives $\\bar{n} = 1.98\\times 10^{-1}$.\n",
    "\n",
    "I think all I have to do to get the number of galaxies is multiply the integrated HIMF by the survey volume. The volume I've chosen is $2.67\\times 10^6 \\text{Mpc}^3$ from Ann Martin's PhD dissertation, altered for integer box side lengths."
   ]
  },
  {
   "cell_type": "code",
   "execution_count": 8,
   "metadata": {
    "collapsed": false,
    "deletable": true,
    "editable": true
   },
   "outputs": [],
   "source": [
    "ngal = mfint * 2.686e6\n",
    "\n",
    "#plt.step(x, ngal)\n",
    "#plt.xlim([6., 11.])\n",
    "#plt.xlabel('log$(M_{{HI}}/M_\\odot)$')\n",
    "#plt.ylabel('$N\\,(M_{{HI}})$')\n",
    "#plt.yscale('log')\n",
    "#plt.show()"
   ]
  },
  {
   "cell_type": "markdown",
   "metadata": {
    "deletable": true,
    "editable": true
   },
   "source": [
    "Normalize and use as a probability distribution for placing the HI galaxies. Choose box size $139\\, \\text{Mpc} \\times 139\\, \\text{Mpc} \\times 139\\, \\text{Mpc}$."
   ]
  },
  {
   "cell_type": "code",
   "execution_count": 25,
   "metadata": {
    "collapsed": false,
    "deletable": true,
    "editable": true
   },
   "outputs": [
    {
     "data": {
      "image/png": "[encoded data removed]",
      "text/plain": [
       "<matplotlib.figure.Figure at 0x7ff6e3acc790>"
      ]
     },
     "metadata": {},
     "output_type": "display_data"
    }
   ],
   "source": [
    "norm = sum(ngal)\n",
    "nprob = ngal / norm\n",
    "\n",
    "lbox = 139\n",
    "box = np.random.choice(cent, size=(lbox,lbox,lbox), p=nprob)\n",
    "\n",
    "plt.hist(box.flatten(), bins=bins)\n",
    "plt.xlim([6,11])\n",
    "plt.yscale('log')\n",
    "plt.xlabel('log$(M_{{HI}}/M_\\odot)$')\n",
    "plt.ylabel('N')\n",
    "plt.show()"
   ]
  },
  {
   "cell_type": "markdown",
   "metadata": {
    "deletable": true,
    "editable": true
   },
   "source": [
    "For reference, we'll now compute the brightness temperature of each voxel, given by\n",
    "\n",
    "$ T_{\\text{HI}}(x_i) = C \\, M(x_i)(N_v/V)$,\n",
    "\n",
    "where $M(x_i)$ is the HI mass in the $i^{\\text{th}}$ voxel, $N_v$ is the number of voxels, and \n",
    "\n",
    "$C = \\frac{3hc^3 A_{10}}{32\\pi m_H k_B v^2_{21}}\\frac{(1+z)^2}{H(z)}$,\n",
    "\n",
    "where $h$ is Planck's constant, $A_{10}$ is the Einstein coefficient, and $m_H$ is the mass of the H atom."
   ]
  },
  {
   "cell_type": "code",
   "execution_count": 30,
   "metadata": {
    "collapsed": false,
    "deletable": true,
    "editable": true
   },
   "outputs": [],
   "source": [
    "h = 6.62607e-34\n",
    "c = 2.99792e8\n",
    "A = 2.869e-15\n",
    "m = 1.67372e-27\n",
    "k = 1.38064e-23\n",
    "v = 1.42041e9\n",
    "z = 0.08\n",
    "H = 2.26719e-18\n",
    "\n",
    "C = 3 * h * c**3 * A * (1+z)**2 / (31*np.pi * m * k * v**2 * H)\n",
    "# volume of box in metres (convert from Mpc)\n",
    "V = (139 * 1.e6 * 3.08568025e16)**3\n",
    "Nv = 139\n",
    "# solar mass\n",
    "Ms = 1.989e30\n",
    "\n",
    "# convert box of masses to kg \n",
    "massbox = (10**box) * Ms\n",
    "# compute box of brightness temps\n",
    "Tb = C * massbox * Nv**3 / V"
   ]
  },
  {
   "cell_type": "markdown",
   "metadata": {
    "collapsed": true,
    "deletable": true,
    "editable": true
   },
   "source": [
    "Above we computed the brightness temperature of the HI in each voxel. Below we'll perform a sanity check and make a histogram of the temps."
   ]
  },
  {
   "cell_type": "code",
   "execution_count": 40,
   "metadata": {
    "collapsed": false,
    "deletable": true,
    "editable": true
   },
   "outputs": [
    {
     "data": {
      "image/png": "[encoded data removed]",
      "text/plain": [
       "<matplotlib.figure.Figure at 0x7ff6e3cb29d0>"
      ]
     },
     "metadata": {},
     "output_type": "display_data"
    }
   ],
   "source": [
    "tempbins = np.logspace(np.log10(1.e-6), np.log10(2.e-1), 20)\n",
    "plt.hist(Tb.flatten(), bins=tempbins)\n",
    "plt.ylabel('N')\n",
    "plt.xlabel('$T_{\\mathrm{b}}\\, $[K]')\n",
    "plt.xscale('log')\n",
    "plt.yscale('log')"
   ]
  },
  {
   "cell_type": "code",
   "execution_count": 48,
   "metadata": {
    "collapsed": false,
    "deletable": true,
    "editable": true
   },
   "outputs": [
    {
     "data": {
      "text/plain": [
       "1.362340279520184e-08"
      ]
     },
     "execution_count": 48,
     "metadata": {},
     "output_type": "execute_result"
    }
   ],
   "source": [
    "T_b = np.mean(Tb)\n",
    "0.000052**2 / nbar\n"
   ]
  },
  {
   "cell_type": "code",
   "execution_count": 47,
   "metadata": {
    "collapsed": false,
    "deletable": true,
    "editable": true
   },
   "outputs": [
    {
     "data": {
      "text/plain": [
       "1.2792259297375874e-07"
      ]
     },
     "execution_count": 47,
     "metadata": {},
     "output_type": "execute_result"
    }
   ],
   "source": [
    "T_b**2"
   ]
  },
  {
   "cell_type": "code",
   "execution_count": 50,
   "metadata": {
    "collapsed": false,
    "deletable": true,
    "editable": true
   },
   "outputs": [
    {
     "data": {
      "text/plain": [
       "1.0715193052376064"
      ]
     },
     "execution_count": 50,
     "metadata": {},
     "output_type": "execute_result"
    }
   ],
   "source": [
    "10**0.03"
   ]
  },
  {
   "cell_type": "code",
   "execution_count": null,
   "metadata": {
    "collapsed": true,
    "deletable": true,
    "editable": true
   },
   "outputs": [],
   "source": []
  }
 ],
 "metadata": {
  "kernelspec": {
   "display_name": "Python 2",
   "language": "python",
   "name": "python2"
  },
  "language_info": {
   "codemirror_mode": {
    "name": "ipython",
    "version": 2
   },
   "file_extension": ".py",
   "mimetype": "text/x-python",
   "name": "python",
   "nbconvert_exporter": "python",
   "pygments_lexer": "ipython2",
   "version": "2.7.13"
  }
 },
 "nbformat": 4,
 "nbformat_minor": 2
}
